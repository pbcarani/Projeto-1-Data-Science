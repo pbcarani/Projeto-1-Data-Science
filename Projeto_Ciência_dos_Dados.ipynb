{
 "cells": [
  {
   "cell_type": "markdown",
   "metadata": {},
   "source": [
    "# Projeto 1 - Ciência dos Dados.\n",
    "\n",
    "Nome: Pedro Braga Carani"
   ]
  },
  {
   "cell_type": "markdown",
   "metadata": {},
   "source": [
    "# Introdução "
   ]
  },
  {
   "cell_type": "markdown",
   "metadata": {},
   "source": [
    "## Mercosul\n",
    "O mercosul é uma organizacao internacional criada em 1991 com o objetivo de obter uma integração econômica e aduaneira, a organização é constituída por Argentina, Brasil, Paraguai e Uruguai.\n",
    "Consolidada em várias partes do mundo, uma nova tendencia de integração está surgindo, a **integração energética**. "
   ]
  },
  {
   "cell_type": "markdown",
   "metadata": {},
   "source": [
    "# Pergunta "
   ]
  },
  {
   "cell_type": "markdown",
   "metadata": {},
   "source": [
    "## A entrada de um país ao Mercosul fará com que sua produção de energia hidrelétrica aumente?"
   ]
  },
  {
   "cell_type": "markdown",
   "metadata": {},
   "source": [
    "# Hipotése"
   ]
  },
  {
   "cell_type": "markdown",
   "metadata": {},
   "source": [
    "### A integração energética após a criação do Mercosul aumentará."
   ]
  },
  {
   "cell_type": "markdown",
   "metadata": {},
   "source": [
    "Sabendo que a demanda da energia elétrica está crescendo cada dia mais e que a integração energética é um dos objetivos da organizacão, o **Mercosul está se tornando um \"polo energético\".**\n",
    "Um possível exemplo desse funcionamento são as hidreletricas binacionais, como a de Itaipu (Brasil e Paraguai), Yachieta (Argentina e Paraguai) e Salto Grande (Argentina e Uruguai).\n"
   ]
  },
  {
   "cell_type": "markdown",
   "metadata": {},
   "source": [
    "# Mecanismo"
   ]
  },
  {
   "cell_type": "markdown",
   "metadata": {},
   "source": [
    "O mecanismo utilizado é analisar os dados da geração de energia hidrelétrica dos países que pertecem ao Mercosul antes e depois da criação da organização. Além de comparar com países que não estão no Mercosul. \n",
    "\n",
    "Os dados utilizados são: \n",
    "- produção de energia hidrelétrica total\n",
    "- gdp/capita\n"
   ]
  },
  {
   "cell_type": "markdown",
   "metadata": {},
   "source": [
    "#### Importar as bibliotecas"
   ]
  },
  {
   "cell_type": "code",
   "execution_count": 2,
   "metadata": {},
   "outputs": [],
   "source": [
    "\n",
    "import pandas as pd\n",
    "import matplotlib.pyplot as plt\n"
   ]
  },
  {
   "cell_type": "markdown",
   "metadata": {},
   "source": [
    "#### Abrir o arquivo de dados"
   ]
  },
  {
   "cell_type": "code",
   "execution_count": 3,
   "metadata": {},
   "outputs": [],
   "source": [
    "dados = pd.read_excel('hydro_power_generation_total.xlsx')\n",
    "gdp = pd.read_excel('income_per_person_gdppercapita_ppp_inflation_adjusted.xlsx')"
   ]
  },
  {
   "cell_type": "markdown",
   "metadata": {},
   "source": [
    "#### Arrumar o banco de dados\n"
   ]
  },
  {
   "cell_type": "code",
   "execution_count": 4,
   "metadata": {},
   "outputs": [],
   "source": [
    "#arrumar os dados\n",
    "dados_country=dados.set_index('country')\n",
    "dados_country_t=dados_country.transpose()\n",
    "gdp_country=gdp.set_index('country')\n",
    "gdp_country_t=gdp_country.transpose()\n"
   ]
  },
  {
   "cell_type": "markdown",
   "metadata": {},
   "source": [
    "#### Filtrar pelos países que pertecem ao MERCOSUL antes e depois da criação da organização."
   ]
  },
  {
   "cell_type": "code",
   "execution_count": 5,
   "metadata": {},
   "outputs": [],
   "source": [
    "antes_mercosul=dados_country_t[(dados_country_t.index>=1971)&(dados_country_t.index<=1991)][['Brazil','Paraguay','Argentina','Uruguay']]\n",
    "mercosul=dados_country_t[(dados_country_t.index>=1991)&(dados_country_t.index<=2010)][['Brazil','Paraguay','Argentina','Uruguay']]\n",
    "antes_mercosul_gdp=gdp_country_t[(gdp_country_t.index>=1971)&(gdp_country_t.index<=1991)][['Brazil','Paraguay','Argentina','Uruguay']]\n",
    "mercosul_gdp=gdp_country_t[(gdp_country_t.index>=1991)&(gdp_country_t.index<=2010)][['Brazil','Paraguay','Argentina','Uruguay']]\n",
    "\n"
   ]
  },
  {
   "cell_type": "markdown",
   "metadata": {},
   "source": [
    "#### Filtrar pelos países que são a base para comparação. "
   ]
  },
  {
   "cell_type": "code",
   "execution_count": 6,
   "metadata": {},
   "outputs": [],
   "source": [
    "base_antes_mercosul=dados_country_t[(dados_country_t.index>=1971)&(dados_country_t.index<=1991)][['Chile', 'United States', 'Mexico']]\n",
    "base=dados_country_t[(dados_country_t.index>=1991)&(dados_country_t.index<=2010)][['Chile','United States', 'Mexico']]\n",
    "base_antes_mercosul_gdp=gdp_country_t[(gdp_country_t.index>=1971)&(gdp_country_t.index<=1991)][['Chile', 'United States', 'Mexico']]\n",
    "base_gdp=dados_country_t[(dados_country_t.index>=1991)&(dados_country_t.index<=2010)][['Chile','United States', 'Mexico']]"
   ]
  },
  {
   "cell_type": "markdown",
   "metadata": {},
   "source": [
    "#### Join dos dados antes do mercosul\n"
   ]
  },
  {
   "cell_type": "code",
   "execution_count": 7,
   "metadata": {},
   "outputs": [],
   "source": [
    "antes_mercosul_energy_gdp=antes_mercosul.join(antes_mercosul_gdp, lsuffix='_energy', rsuffix='_gdp')"
   ]
  },
  {
   "cell_type": "markdown",
   "metadata": {},
   "source": [
    "#### Join dos dados depois do mercosul "
   ]
  },
  {
   "cell_type": "code",
   "execution_count": 8,
   "metadata": {},
   "outputs": [],
   "source": [
    "mercosul_energy_gdp=mercosul.join(mercosul_gdp, lsuffix='_energy', rsuffix='_gdp')"
   ]
  },
  {
   "cell_type": "markdown",
   "metadata": {},
   "source": [
    "#### Join dos dados dos países que são bases para comparação"
   ]
  },
  {
   "cell_type": "code",
   "execution_count": 9,
   "metadata": {},
   "outputs": [],
   "source": [
    "base_antes_energy_gdp=base_antes_mercosul.join(base_antes_mercosul_gdp, lsuffix='_energy', rsuffix='_gdp')\n",
    "base_energy_gdp=base.join(base_gdp, lsuffix='_energy', rsuffix='_gdp')\n"
   ]
  },
  {
   "cell_type": "code",
   "execution_count": 10,
   "metadata": {},
   "outputs": [
    {
     "data": {
      "text/html": [
       "<div>\n",
       "<style scoped>\n",
       "    .dataframe tbody tr th:only-of-type {\n",
       "        vertical-align: middle;\n",
       "    }\n",
       "\n",
       "    .dataframe tbody tr th {\n",
       "        vertical-align: top;\n",
       "    }\n",
       "\n",
       "    .dataframe thead th {\n",
       "        text-align: right;\n",
       "    }\n",
       "</style>\n",
       "<table border=\"1\" class=\"dataframe\">\n",
       "  <thead>\n",
       "    <tr style=\"text-align: right;\">\n",
       "      <th>country</th>\n",
       "      <th>Brazil_energy</th>\n",
       "      <th>Paraguay_energy</th>\n",
       "      <th>Argentina_energy</th>\n",
       "      <th>Uruguay_energy</th>\n",
       "      <th>Brazil_gdp</th>\n",
       "      <th>Paraguay_gdp</th>\n",
       "      <th>Argentina_gdp</th>\n",
       "      <th>Uruguay_gdp</th>\n",
       "    </tr>\n",
       "  </thead>\n",
       "  <tbody>\n",
       "    <tr>\n",
       "      <th>1991</th>\n",
       "      <td>18700000.0</td>\n",
       "      <td>2520000.0</td>\n",
       "      <td>1400000.0</td>\n",
       "      <td>526000.0</td>\n",
       "      <td>10300</td>\n",
       "      <td>6090</td>\n",
       "      <td>12000</td>\n",
       "      <td>10100</td>\n",
       "    </tr>\n",
       "    <tr>\n",
       "      <th>1992</th>\n",
       "      <td>19200000.0</td>\n",
       "      <td>2330000.0</td>\n",
       "      <td>1670000.0</td>\n",
       "      <td>681000.0</td>\n",
       "      <td>10100</td>\n",
       "      <td>6040</td>\n",
       "      <td>13300</td>\n",
       "      <td>10800</td>\n",
       "    </tr>\n",
       "    <tr>\n",
       "      <th>1993</th>\n",
       "      <td>20200000.0</td>\n",
       "      <td>2700000.0</td>\n",
       "      <td>2050000.0</td>\n",
       "      <td>628000.0</td>\n",
       "      <td>10400</td>\n",
       "      <td>6190</td>\n",
       "      <td>13900</td>\n",
       "      <td>11000</td>\n",
       "    </tr>\n",
       "    <tr>\n",
       "      <th>1994</th>\n",
       "      <td>20900000.0</td>\n",
       "      <td>3130000.0</td>\n",
       "      <td>2350000.0</td>\n",
       "      <td>642000.0</td>\n",
       "      <td>10800</td>\n",
       "      <td>6360</td>\n",
       "      <td>14500</td>\n",
       "      <td>11800</td>\n",
       "    </tr>\n",
       "    <tr>\n",
       "      <th>1995</th>\n",
       "      <td>21800000.0</td>\n",
       "      <td>3620000.0</td>\n",
       "      <td>2310000.0</td>\n",
       "      <td>504000.0</td>\n",
       "      <td>11100</td>\n",
       "      <td>6640</td>\n",
       "      <td>13900</td>\n",
       "      <td>11500</td>\n",
       "    </tr>\n",
       "    <tr>\n",
       "      <th>1996</th>\n",
       "      <td>22900000.0</td>\n",
       "      <td>3850000.0</td>\n",
       "      <td>1970000.0</td>\n",
       "      <td>496000.0</td>\n",
       "      <td>11100</td>\n",
       "      <td>6590</td>\n",
       "      <td>14500</td>\n",
       "      <td>12100</td>\n",
       "    </tr>\n",
       "    <tr>\n",
       "      <th>1997</th>\n",
       "      <td>24000000.0</td>\n",
       "      <td>4370000.0</td>\n",
       "      <td>2410000.0</td>\n",
       "      <td>558000.0</td>\n",
       "      <td>11300</td>\n",
       "      <td>6720</td>\n",
       "      <td>15500</td>\n",
       "      <td>13000</td>\n",
       "    </tr>\n",
       "    <tr>\n",
       "      <th>1998</th>\n",
       "      <td>25100000.0</td>\n",
       "      <td>4370000.0</td>\n",
       "      <td>2270000.0</td>\n",
       "      <td>787000.0</td>\n",
       "      <td>11200</td>\n",
       "      <td>6580</td>\n",
       "      <td>15900</td>\n",
       "      <td>13500</td>\n",
       "    </tr>\n",
       "    <tr>\n",
       "      <th>1999</th>\n",
       "      <td>25200000.0</td>\n",
       "      <td>4460000.0</td>\n",
       "      <td>1840000.0</td>\n",
       "      <td>473000.0</td>\n",
       "      <td>11100</td>\n",
       "      <td>6360</td>\n",
       "      <td>15200</td>\n",
       "      <td>13200</td>\n",
       "    </tr>\n",
       "    <tr>\n",
       "      <th>2000</th>\n",
       "      <td>26200000.0</td>\n",
       "      <td>4600000.0</td>\n",
       "      <td>2470000.0</td>\n",
       "      <td>606000.0</td>\n",
       "      <td>11400</td>\n",
       "      <td>6090</td>\n",
       "      <td>14900</td>\n",
       "      <td>12900</td>\n",
       "    </tr>\n",
       "    <tr>\n",
       "      <th>2001</th>\n",
       "      <td>23000000.0</td>\n",
       "      <td>3900000.0</td>\n",
       "      <td>3180000.0</td>\n",
       "      <td>791000.0</td>\n",
       "      <td>11400</td>\n",
       "      <td>5920</td>\n",
       "      <td>14100</td>\n",
       "      <td>12400</td>\n",
       "    </tr>\n",
       "    <tr>\n",
       "      <th>2002</th>\n",
       "      <td>24600000.0</td>\n",
       "      <td>4150000.0</td>\n",
       "      <td>3080000.0</td>\n",
       "      <td>820000.0</td>\n",
       "      <td>11600</td>\n",
       "      <td>5810</td>\n",
       "      <td>12400</td>\n",
       "      <td>11400</td>\n",
       "    </tr>\n",
       "    <tr>\n",
       "      <th>2003</th>\n",
       "      <td>26300000.0</td>\n",
       "      <td>4450000.0</td>\n",
       "      <td>2910000.0</td>\n",
       "      <td>733000.0</td>\n",
       "      <td>11500</td>\n",
       "      <td>5950</td>\n",
       "      <td>13400</td>\n",
       "      <td>11500</td>\n",
       "    </tr>\n",
       "    <tr>\n",
       "      <th>2004</th>\n",
       "      <td>27600000.0</td>\n",
       "      <td>4470000.0</td>\n",
       "      <td>2620000.0</td>\n",
       "      <td>410000.0</td>\n",
       "      <td>12100</td>\n",
       "      <td>6090</td>\n",
       "      <td>14400</td>\n",
       "      <td>12100</td>\n",
       "    </tr>\n",
       "    <tr>\n",
       "      <th>2005</th>\n",
       "      <td>29000000.0</td>\n",
       "      <td>4400000.0</td>\n",
       "      <td>2920000.0</td>\n",
       "      <td>575000.0</td>\n",
       "      <td>12300</td>\n",
       "      <td>6120</td>\n",
       "      <td>15500</td>\n",
       "      <td>13000</td>\n",
       "    </tr>\n",
       "    <tr>\n",
       "      <th>2006</th>\n",
       "      <td>30000000.0</td>\n",
       "      <td>4630000.0</td>\n",
       "      <td>3260000.0</td>\n",
       "      <td>309000.0</td>\n",
       "      <td>12600</td>\n",
       "      <td>6320</td>\n",
       "      <td>16600</td>\n",
       "      <td>13500</td>\n",
       "    </tr>\n",
       "    <tr>\n",
       "      <th>2007</th>\n",
       "      <td>32200000.0</td>\n",
       "      <td>4620000.0</td>\n",
       "      <td>2610000.0</td>\n",
       "      <td>694000.0</td>\n",
       "      <td>13300</td>\n",
       "      <td>6570</td>\n",
       "      <td>17900</td>\n",
       "      <td>14300</td>\n",
       "    </tr>\n",
       "    <tr>\n",
       "      <th>2008</th>\n",
       "      <td>31800000.0</td>\n",
       "      <td>4770000.0</td>\n",
       "      <td>2620000.0</td>\n",
       "      <td>387000.0</td>\n",
       "      <td>13800</td>\n",
       "      <td>6890</td>\n",
       "      <td>18400</td>\n",
       "      <td>15300</td>\n",
       "    </tr>\n",
       "    <tr>\n",
       "      <th>2009</th>\n",
       "      <td>33600000.0</td>\n",
       "      <td>4730000.0</td>\n",
       "      <td>2910000.0</td>\n",
       "      <td>452000.0</td>\n",
       "      <td>13700</td>\n",
       "      <td>6530</td>\n",
       "      <td>17200</td>\n",
       "      <td>15900</td>\n",
       "    </tr>\n",
       "    <tr>\n",
       "      <th>2010</th>\n",
       "      <td>34700000.0</td>\n",
       "      <td>4650000.0</td>\n",
       "      <td>2890000.0</td>\n",
       "      <td>745000.0</td>\n",
       "      <td>14500</td>\n",
       "      <td>7290</td>\n",
       "      <td>18700</td>\n",
       "      <td>17100</td>\n",
       "    </tr>\n",
       "  </tbody>\n",
       "</table>\n",
       "</div>"
      ],
      "text/plain": [
       "country  Brazil_energy  Paraguay_energy  Argentina_energy  Uruguay_energy  \\\n",
       "1991        18700000.0        2520000.0         1400000.0        526000.0   \n",
       "1992        19200000.0        2330000.0         1670000.0        681000.0   \n",
       "1993        20200000.0        2700000.0         2050000.0        628000.0   \n",
       "1994        20900000.0        3130000.0         2350000.0        642000.0   \n",
       "1995        21800000.0        3620000.0         2310000.0        504000.0   \n",
       "1996        22900000.0        3850000.0         1970000.0        496000.0   \n",
       "1997        24000000.0        4370000.0         2410000.0        558000.0   \n",
       "1998        25100000.0        4370000.0         2270000.0        787000.0   \n",
       "1999        25200000.0        4460000.0         1840000.0        473000.0   \n",
       "2000        26200000.0        4600000.0         2470000.0        606000.0   \n",
       "2001        23000000.0        3900000.0         3180000.0        791000.0   \n",
       "2002        24600000.0        4150000.0         3080000.0        820000.0   \n",
       "2003        26300000.0        4450000.0         2910000.0        733000.0   \n",
       "2004        27600000.0        4470000.0         2620000.0        410000.0   \n",
       "2005        29000000.0        4400000.0         2920000.0        575000.0   \n",
       "2006        30000000.0        4630000.0         3260000.0        309000.0   \n",
       "2007        32200000.0        4620000.0         2610000.0        694000.0   \n",
       "2008        31800000.0        4770000.0         2620000.0        387000.0   \n",
       "2009        33600000.0        4730000.0         2910000.0        452000.0   \n",
       "2010        34700000.0        4650000.0         2890000.0        745000.0   \n",
       "\n",
       "country  Brazil_gdp  Paraguay_gdp  Argentina_gdp  Uruguay_gdp  \n",
       "1991          10300          6090          12000        10100  \n",
       "1992          10100          6040          13300        10800  \n",
       "1993          10400          6190          13900        11000  \n",
       "1994          10800          6360          14500        11800  \n",
       "1995          11100          6640          13900        11500  \n",
       "1996          11100          6590          14500        12100  \n",
       "1997          11300          6720          15500        13000  \n",
       "1998          11200          6580          15900        13500  \n",
       "1999          11100          6360          15200        13200  \n",
       "2000          11400          6090          14900        12900  \n",
       "2001          11400          5920          14100        12400  \n",
       "2002          11600          5810          12400        11400  \n",
       "2003          11500          5950          13400        11500  \n",
       "2004          12100          6090          14400        12100  \n",
       "2005          12300          6120          15500        13000  \n",
       "2006          12600          6320          16600        13500  \n",
       "2007          13300          6570          17900        14300  \n",
       "2008          13800          6890          18400        15300  \n",
       "2009          13700          6530          17200        15900  \n",
       "2010          14500          7290          18700        17100  "
      ]
     },
     "execution_count": 10,
     "metadata": {},
     "output_type": "execute_result"
    }
   ],
   "source": [
    "mercosul_energy_gdp\n"
   ]
  },
  {
   "cell_type": "markdown",
   "metadata": {},
   "source": [
    "## Boxplot dos países do Mercosul (produção de energia hidroelétrica)"
   ]
  },
  {
   "cell_type": "markdown",
   "metadata": {},
   "source": [
    "## Brasil\n"
   ]
  },
  {
   "cell_type": "code",
   "execution_count": 22,
   "metadata": {},
   "outputs": [
    {
     "data": {
      "image/png": "[encoded data removed]",
      "text/plain": [
       "<Figure size 432x288 with 1 Axes>"
      ]
     },
     "metadata": {
      "needs_background": "light"
     },
     "output_type": "display_data"
    }
   ],
   "source": [
    "antes_mercosul.Brazil.plot.box(patch_artist=True);\n",
    "mercosul.Brazil.plot.box();"
   ]
  },
  {
   "cell_type": "markdown",
   "metadata": {},
   "source": [
    "Podemos observar que houve um aumento considerável depois da criação do Mercosul (Empty), ao comparar com o período antes da criação (Color). "
   ]
  },
  {
   "cell_type": "markdown",
   "metadata": {},
   "source": [
    "## Paraguai "
   ]
  },
  {
   "cell_type": "code",
   "execution_count": 27,
   "metadata": {},
   "outputs": [
    {
     "data": {
      "image/png": "[encoded data removed]",
      "text/plain": [
       "<Figure size 432x288 with 1 Axes>"
      ]
     },
     "metadata": {
      "needs_background": "light"
     },
     "output_type": "display_data"
    }
   ],
   "source": [
    "antes_mercosul.Paraguay.plot.box(patch_artist=True);\n",
    "mercosul.Paraguay.plot.box();"
   ]
  },
  {
   "cell_type": "markdown",
   "metadata": {},
   "source": [
    "## Argentina "
   ]
  },
  {
   "cell_type": "code",
   "execution_count": 28,
   "metadata": {
    "scrolled": false
   },
   "outputs": [
    {
     "data": {
      "image/png": "[encoded data removed]",
      "text/plain": [
       "<Figure size 432x288 with 1 Axes>"
      ]
     },
     "metadata": {
      "needs_background": "light"
     },
     "output_type": "display_data"
    }
   ],
   "source": [
    "antes_mercosul.Argentina.plot.box(patch_artist=True);\n",
    "mercosul.Argentina.plot.box();\n",
    "\n"
   ]
  },
  {
   "cell_type": "markdown",
   "metadata": {},
   "source": [
    "É observar através dos boxplots, que houve um crescimento na produção de energia hidroelétrica principalmente no Brasil, o que pode ser explicado pelo crescimento das usinas hidrelétricas.\n"
   ]
  },
  {
   "cell_type": "markdown",
   "metadata": {},
   "source": [
    "## Boxplot dos países bases para comparação (produção de energia hidroelétrica)"
   ]
  },
  {
   "cell_type": "code",
   "execution_count": 29,
   "metadata": {},
   "outputs": [
    {
     "data": {
      "image/png": "[encoded data removed]",
      "text/plain": [
       "<Figure size 432x288 with 1 Axes>"
      ]
     },
     "metadata": {
      "needs_background": "light"
     },
     "output_type": "display_data"
    }
   ],
   "source": [
    "base_antes_mercosul.Chile.plot.box(patch_artist=True);\n",
    "base.Chile.plot.box();"
   ]
  },
  {
   "cell_type": "code",
   "execution_count": 34,
   "metadata": {
    "scrolled": true
   },
   "outputs": [
    {
     "data": {
      "image/png": "[encoded data removed]",
      "text/plain": [
       "<Figure size 432x288 with 1 Axes>"
      ]
     },
     "metadata": {
      "needs_background": "light"
     },
     "output_type": "display_data"
    }
   ],
   "source": [
    "base_antes_mercosul.Mexico.plot.box(patch_artist=True);\n",
    "base.Mexico.plot.box();"
   ]
  },
  {
   "cell_type": "markdown",
   "metadata": {},
   "source": [
    "Nesse caso é possível observar que, mesmo com o crescimento, quando comparado com os países do Mercosul o crescimento foi bem inferior, o que demostra que a hipótese que o Mercosul favorece o aumento da produção de energia hidroelétrica, pode ser válida."
   ]
  },
  {
   "cell_type": "markdown",
   "metadata": {},
   "source": [
    "## Histograma com os dados da GDP no Brasil"
   ]
  },
  {
   "cell_type": "code",
   "execution_count": 35,
   "metadata": {
    "scrolled": true
   },
   "outputs": [
    {
     "data": {
      "image/png": "[encoded data removed]",
      "text/plain": [
       "<Figure size 1080x360 with 2 Axes>"
      ]
     },
     "metadata": {
      "needs_background": "light"
     },
     "output_type": "display_data"
    }
   ],
   "source": [
    "Brazil_antes_mercosul=antes_mercosul_energy_gdp.loc[:,'Brazil_gdp']\n",
    "Brazil_mercosul=mercosul_energy_gdp.loc[:, 'Brazil_gdp']\n",
    "\n",
    "fig = plt.figure(figsize=(15, 5))\n",
    "plt.subplot(131)\n",
    "plot = Brazil_antes_mercosul.plot.hist(title='Antes do Mercosul (Brasil)')\n",
    "plt.ylabel('Frequência')\n",
    "plt.xlabel('Renda')\n",
    "\n",
    "plt.subplot(132)\n",
    "plot = Brazil_mercosul.plot.hist(title='Depois do Mercosul (Brasil)')\n",
    "plt.ylabel('Frequência')\n",
    "plt.xlabel('Renda')\n",
    "\n",
    "\n",
    "\n",
    "plt.tight_layout()\n",
    "plt.show()\n"
   ]
  },
  {
   "cell_type": "markdown",
   "metadata": {},
   "source": [
    "# Conclusão\n"
   ]
  },
  {
   "cell_type": "markdown",
   "metadata": {},
   "source": [
    "   Com isso a conclusão é que houve uma integração energética maior nos paises integrantes do Mercosul, principalmente no Brasil e no Paraguai, muito devido a Usina de Itaipu. Além da integração energética, é possível observar, que há uma integração econômica também, o que faz com que o Mercosul seja uma organização forte nesses sentidos.\n",
    "   Um dos fatos importantes que deve ser considerado, é que o objetivo dos países membros do Mercosul é ampliar o uso de energias renováveis, isso favorece ainda mais a integraçao dos membros.\n",
    "\n"
   ]
  },
  {
   "cell_type": "markdown",
   "metadata": {},
   "source": [
    "## Referências\n"
   ]
  },
  {
   "cell_type": "markdown",
   "metadata": {},
   "source": [
    "#### http://www.bracier.org.br/site/noticias/brasil/772-integracao-energetica-no-mercosul.html\n",
    "#### https://www.gapminder.org/data/\n",
    "#### https://economia.estadao.com.br/noticias/geral,integracao-energetica-no-mercosul-imp-,684334"
   ]
  }
 ],
 "metadata": {
  "kernelspec": {
   "display_name": "Python 3",
   "language": "python",
   "name": "python3"
  },
  "language_info": {
   "codemirror_mode": {
    "name": "ipython",
    "version": 3
   },
   "file_extension": ".py",
   "mimetype": "text/x-python",
   "name": "python",
   "nbconvert_exporter": "python",
   "pygments_lexer": "ipython3",
   "version": "3.7.1"
  }
 },
 "nbformat": 4,
 "nbformat_minor": 2
}
